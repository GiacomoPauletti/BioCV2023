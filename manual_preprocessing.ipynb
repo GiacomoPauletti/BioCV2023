{
 "cells": [
  {
   "cell_type": "markdown",
   "metadata": {},
   "source": [
    "## DATASET PREPROCESSING"
   ]
  },
  {
   "cell_type": "markdown",
   "metadata": {},
   "source": [
    "### Import e variabile init"
   ]
  },
  {
   "cell_type": "code",
   "execution_count": 1,
   "metadata": {},
   "outputs": [],
   "source": [
    "# STEP EXECUTED IN THE PREPROCESSING\n",
    "import os\n",
    "import shutil\n",
    "from PIL import Image\n",
    "import cv2\n",
    "import skimage\n",
    "import pydicom\n",
    "import scipy\n",
    "import numpy as np\n",
    "import math\n",
    "from matplotlib import pyplot as plt\n",
    "from glob import glob\n",
    "\n",
    "from border_detector import BorderDetector\n",
    "\n",
    "# dir structure of the preprocessed set\n",
    "dir_structure = {\n",
    "    \"./Preprocessed_Set/\":\n",
    "    {\n",
    "        \"T1DUAL\": \n",
    "        {\n",
    "            \"InPhase\": \n",
    "            {\n",
    "                \"Images\": {}, \n",
    "                \"Masks\" : {}\n",
    "            },\n",
    "            \"OutPhase\":\n",
    "            {\n",
    "                \"Images\": {}, \n",
    "                \"Masks\" : {}\n",
    "            } \n",
    "            \n",
    "        },\n",
    "        \"T2SPIR\":\n",
    "        {\n",
    "            \"Images\": {}, \n",
    "            \"Masks\" : {}\n",
    "        } \n",
    "    }\n",
    "}"
   ]
  },
  {
   "cell_type": "markdown",
   "metadata": {},
   "source": [
    "### Auxiliar functions"
   ]
  },
  {
   "cell_type": "code",
   "execution_count": 20,
   "metadata": {},
   "outputs": [],
   "source": [
    "# STEP EXECUTED IN THE PREPROCESSING\n",
    "\"\"\"\n",
    "Get all possible paths from the directory tree specified\n",
    "\"\"\"\n",
    "def get_paths(directory_tree):\n",
    "    def _get_paths(directory_tree):\n",
    "\n",
    "        paths = [\"\", ]\n",
    "        for dir, subdir in directory_tree.items():\n",
    "            current_path = dir\n",
    "            ret_paths = _get_paths(subdir)\n",
    "            for ret_path in ret_paths:\n",
    "                paths.append(os.path.join(dir, ret_path))\n",
    "        \n",
    "        return paths\n",
    "    \n",
    "    result = _get_paths(directory_tree)\n",
    "    result.remove('')    \n",
    "\n",
    "    return result\n",
    "\n",
    "# finds a particular directory or file in the directory tree\n",
    "def find_path(directory_tree, dir_name):\n",
    "    result = []\n",
    "    for cur_dir in directory_tree.keys():\n",
    "        if cur_dir == dir_name:\n",
    "            result.append(cur_dir)\n",
    "            \n",
    "        for found_dir in find_path(directory_tree[cur_dir], dir_name):\n",
    "            result.append(os.path.join(cur_dir,found_dir))\n",
    "    \n",
    "    return result\n",
    "        "
   ]
  },
  {
   "cell_type": "markdown",
   "metadata": {},
   "source": [
    "### Directory creation\n",
    "The directory of the preprocessed set is created as illustrated below or as it is writtend in `dir_structure` variable.  \n",
    "This is useful for working with one protocol at time, maybe should be modified if all protocols are used at the same time.  \n",
    "  \n",
    "Directory structure:  \n",
    "Preprocessed_set_2    \n",
    "|-> T1DUAL  \n",
    "----|-> InPhase  \n",
    "--------|-> Images  \n",
    "--------|-> Masks  \n",
    "----|-> OutPhase  \n",
    "--------|-> Images  \n",
    "--------|-> Masks  \n",
    "|-> T2SPIR  \n",
    "----|-> Images  \n",
    "----|-> Masks  "
   ]
  },
  {
   "cell_type": "code",
   "execution_count": 21,
   "metadata": {},
   "outputs": [],
   "source": [
    "# STEP EXECUTED IN THE PREPROCESSING\n",
    "\n",
    "#Creating a directory_tree from a real directory tree\n",
    "def build_directory_tree(path):\n",
    "    def _build_directory_tree(path):\n",
    "        cur_dir = dict()\n",
    "        _, subdirs, _ = os.walk(path).__next__()\n",
    "        for subdir in subdirs:\n",
    "            cur_dir[subdir] = _build_directory_tree(os.path.join(path,subdir))\n",
    "\n",
    "        return cur_dir\n",
    "\n",
    "    result = dict()\n",
    "    result[os.path.basename(path)] = _build_directory_tree(path)\n",
    "\n",
    "    return result"
   ]
  },
  {
   "cell_type": "code",
   "execution_count": 22,
   "metadata": {},
   "outputs": [],
   "source": [
    "# STEP EXECUTED IN THE PREPROCESSING\n",
    "# building Preprocessed_Set directory\n",
    "for path in get_paths(dir_structure):\n",
    "    os.mkdir(path)"
   ]
  },
  {
   "cell_type": "code",
   "execution_count": 23,
   "metadata": {},
   "outputs": [
    {
     "name": "stdout",
     "output_type": "stream",
     "text": [
      "['CHAOS_Train_Sets/', 'CHAOS_Train_Sets/Train_Sets/', 'CHAOS_Train_Sets/Train_Sets/MR/', 'CHAOS_Train_Sets/Train_Sets/MR/1/', 'CHAOS_Train_Sets/Train_Sets/MR/1/T1DUAL/', 'CHAOS_Train_Sets/Train_Sets/MR/1/T1DUAL/DICOM_anon/', 'CHAOS_Train_Sets/Train_Sets/MR/1/T1DUAL/DICOM_anon/InPhase/', 'CHAOS_Train_Sets/Train_Sets/MR/1/T1DUAL/DICOM_anon/OutPhase/', 'CHAOS_Train_Sets/Train_Sets/MR/1/T1DUAL/Ground/', 'CHAOS_Train_Sets/Train_Sets/MR/1/T2SPIR/', 'CHAOS_Train_Sets/Train_Sets/MR/1/T2SPIR/DICOM_anon/', 'CHAOS_Train_Sets/Train_Sets/MR/1/T2SPIR/Ground/', 'CHAOS_Train_Sets/Train_Sets/MR/10/', 'CHAOS_Train_Sets/Train_Sets/MR/10/T1DUAL/', 'CHAOS_Train_Sets/Train_Sets/MR/10/T1DUAL/DICOM_anon/', 'CHAOS_Train_Sets/Train_Sets/MR/10/T1DUAL/DICOM_anon/InPhase/', 'CHAOS_Train_Sets/Train_Sets/MR/10/T1DUAL/DICOM_anon/OutPhase/', 'CHAOS_Train_Sets/Train_Sets/MR/10/T1DUAL/Ground/', 'CHAOS_Train_Sets/Train_Sets/MR/10/T2SPIR/', 'CHAOS_Train_Sets/Train_Sets/MR/10/T2SPIR/DICOM_anon/', 'CHAOS_Train_Sets/Train_Sets/MR/10/T2SPIR/Ground/', 'CHAOS_Train_Sets/Train_Sets/MR/13/', 'CHAOS_Train_Sets/Train_Sets/MR/13/T1DUAL/', 'CHAOS_Train_Sets/Train_Sets/MR/13/T1DUAL/DICOM_anon/', 'CHAOS_Train_Sets/Train_Sets/MR/13/T1DUAL/DICOM_anon/InPhase/', 'CHAOS_Train_Sets/Train_Sets/MR/13/T1DUAL/DICOM_anon/OutPhase/', 'CHAOS_Train_Sets/Train_Sets/MR/13/T1DUAL/Ground/', 'CHAOS_Train_Sets/Train_Sets/MR/13/T2SPIR/', 'CHAOS_Train_Sets/Train_Sets/MR/13/T2SPIR/DICOM_anon/', 'CHAOS_Train_Sets/Train_Sets/MR/13/T2SPIR/Ground/', 'CHAOS_Train_Sets/Train_Sets/MR/15/', 'CHAOS_Train_Sets/Train_Sets/MR/15/T1DUAL/', 'CHAOS_Train_Sets/Train_Sets/MR/15/T1DUAL/DICOM_anon/', 'CHAOS_Train_Sets/Train_Sets/MR/15/T1DUAL/DICOM_anon/InPhase/', 'CHAOS_Train_Sets/Train_Sets/MR/15/T1DUAL/DICOM_anon/OutPhase/', 'CHAOS_Train_Sets/Train_Sets/MR/15/T1DUAL/Ground/', 'CHAOS_Train_Sets/Train_Sets/MR/15/T2SPIR/', 'CHAOS_Train_Sets/Train_Sets/MR/15/T2SPIR/DICOM_anon/', 'CHAOS_Train_Sets/Train_Sets/MR/15/T2SPIR/Ground/', 'CHAOS_Train_Sets/Train_Sets/MR/19/', 'CHAOS_Train_Sets/Train_Sets/MR/19/T1DUAL/', 'CHAOS_Train_Sets/Train_Sets/MR/19/T1DUAL/DICOM_anon/', 'CHAOS_Train_Sets/Train_Sets/MR/19/T1DUAL/DICOM_anon/InPhase/', 'CHAOS_Train_Sets/Train_Sets/MR/19/T1DUAL/DICOM_anon/OutPhase/', 'CHAOS_Train_Sets/Train_Sets/MR/19/T1DUAL/Ground/', 'CHAOS_Train_Sets/Train_Sets/MR/19/T2SPIR/', 'CHAOS_Train_Sets/Train_Sets/MR/19/T2SPIR/DICOM_anon/', 'CHAOS_Train_Sets/Train_Sets/MR/19/T2SPIR/Ground/', 'CHAOS_Train_Sets/Train_Sets/MR/2/', 'CHAOS_Train_Sets/Train_Sets/MR/2/T1DUAL/', 'CHAOS_Train_Sets/Train_Sets/MR/2/T1DUAL/DICOM_anon/', 'CHAOS_Train_Sets/Train_Sets/MR/2/T1DUAL/DICOM_anon/InPhase/', 'CHAOS_Train_Sets/Train_Sets/MR/2/T1DUAL/DICOM_anon/OutPhase/', 'CHAOS_Train_Sets/Train_Sets/MR/2/T1DUAL/Ground/', 'CHAOS_Train_Sets/Train_Sets/MR/2/T2SPIR/', 'CHAOS_Train_Sets/Train_Sets/MR/2/T2SPIR/DICOM_anon/', 'CHAOS_Train_Sets/Train_Sets/MR/2/T2SPIR/Ground/', 'CHAOS_Train_Sets/Train_Sets/MR/20/', 'CHAOS_Train_Sets/Train_Sets/MR/20/T1DUAL/', 'CHAOS_Train_Sets/Train_Sets/MR/20/T1DUAL/DICOM_anon/', 'CHAOS_Train_Sets/Train_Sets/MR/20/T1DUAL/DICOM_anon/InPhase/', 'CHAOS_Train_Sets/Train_Sets/MR/20/T1DUAL/DICOM_anon/OutPhase/', 'CHAOS_Train_Sets/Train_Sets/MR/20/T1DUAL/Ground/', 'CHAOS_Train_Sets/Train_Sets/MR/20/T2SPIR/', 'CHAOS_Train_Sets/Train_Sets/MR/20/T2SPIR/DICOM_anon/', 'CHAOS_Train_Sets/Train_Sets/MR/20/T2SPIR/Ground/', 'CHAOS_Train_Sets/Train_Sets/MR/21/', 'CHAOS_Train_Sets/Train_Sets/MR/21/T1DUAL/', 'CHAOS_Train_Sets/Train_Sets/MR/21/T1DUAL/DICOM_anon/', 'CHAOS_Train_Sets/Train_Sets/MR/21/T1DUAL/DICOM_anon/InPhase/', 'CHAOS_Train_Sets/Train_Sets/MR/21/T1DUAL/DICOM_anon/OutPhase/', 'CHAOS_Train_Sets/Train_Sets/MR/21/T1DUAL/Ground/', 'CHAOS_Train_Sets/Train_Sets/MR/21/T2SPIR/', 'CHAOS_Train_Sets/Train_Sets/MR/21/T2SPIR/DICOM_anon/', 'CHAOS_Train_Sets/Train_Sets/MR/21/T2SPIR/Ground/', 'CHAOS_Train_Sets/Train_Sets/MR/22/', 'CHAOS_Train_Sets/Train_Sets/MR/22/T1DUAL/', 'CHAOS_Train_Sets/Train_Sets/MR/22/T1DUAL/DICOM_anon/', 'CHAOS_Train_Sets/Train_Sets/MR/22/T1DUAL/DICOM_anon/InPhase/', 'CHAOS_Train_Sets/Train_Sets/MR/22/T1DUAL/DICOM_anon/OutPhase/', 'CHAOS_Train_Sets/Train_Sets/MR/22/T1DUAL/Ground/', 'CHAOS_Train_Sets/Train_Sets/MR/22/T2SPIR/', 'CHAOS_Train_Sets/Train_Sets/MR/22/T2SPIR/DICOM_anon/', 'CHAOS_Train_Sets/Train_Sets/MR/22/T2SPIR/Ground/', 'CHAOS_Train_Sets/Train_Sets/MR/3/', 'CHAOS_Train_Sets/Train_Sets/MR/3/T1DUAL/', 'CHAOS_Train_Sets/Train_Sets/MR/3/T1DUAL/DICOM_anon/', 'CHAOS_Train_Sets/Train_Sets/MR/3/T1DUAL/DICOM_anon/InPhase/', 'CHAOS_Train_Sets/Train_Sets/MR/3/T1DUAL/DICOM_anon/OutPhase/', 'CHAOS_Train_Sets/Train_Sets/MR/3/T1DUAL/Ground/', 'CHAOS_Train_Sets/Train_Sets/MR/3/T2SPIR/', 'CHAOS_Train_Sets/Train_Sets/MR/3/T2SPIR/DICOM_anon/', 'CHAOS_Train_Sets/Train_Sets/MR/3/T2SPIR/Ground/', 'CHAOS_Train_Sets/Train_Sets/MR/31/', 'CHAOS_Train_Sets/Train_Sets/MR/31/T1DUAL/', 'CHAOS_Train_Sets/Train_Sets/MR/31/T1DUAL/DICOM_anon/', 'CHAOS_Train_Sets/Train_Sets/MR/31/T1DUAL/DICOM_anon/InPhase/', 'CHAOS_Train_Sets/Train_Sets/MR/31/T1DUAL/DICOM_anon/OutPhase/', 'CHAOS_Train_Sets/Train_Sets/MR/31/T1DUAL/Ground/', 'CHAOS_Train_Sets/Train_Sets/MR/31/T2SPIR/', 'CHAOS_Train_Sets/Train_Sets/MR/31/T2SPIR/DICOM_anon/', 'CHAOS_Train_Sets/Train_Sets/MR/31/T2SPIR/Ground/', 'CHAOS_Train_Sets/Train_Sets/MR/32/', 'CHAOS_Train_Sets/Train_Sets/MR/32/T1DUAL/', 'CHAOS_Train_Sets/Train_Sets/MR/32/T1DUAL/DICOM_anon/', 'CHAOS_Train_Sets/Train_Sets/MR/32/T1DUAL/DICOM_anon/InPhase/', 'CHAOS_Train_Sets/Train_Sets/MR/32/T1DUAL/DICOM_anon/OutPhase/', 'CHAOS_Train_Sets/Train_Sets/MR/32/T1DUAL/Ground/', 'CHAOS_Train_Sets/Train_Sets/MR/32/T2SPIR/', 'CHAOS_Train_Sets/Train_Sets/MR/32/T2SPIR/DICOM_anon/', 'CHAOS_Train_Sets/Train_Sets/MR/32/T2SPIR/Ground/', 'CHAOS_Train_Sets/Train_Sets/MR/33/', 'CHAOS_Train_Sets/Train_Sets/MR/33/T1DUAL/', 'CHAOS_Train_Sets/Train_Sets/MR/33/T1DUAL/DICOM_anon/', 'CHAOS_Train_Sets/Train_Sets/MR/33/T1DUAL/DICOM_anon/InPhase/', 'CHAOS_Train_Sets/Train_Sets/MR/33/T1DUAL/DICOM_anon/OutPhase/', 'CHAOS_Train_Sets/Train_Sets/MR/33/T1DUAL/Ground/', 'CHAOS_Train_Sets/Train_Sets/MR/33/T2SPIR/', 'CHAOS_Train_Sets/Train_Sets/MR/33/T2SPIR/DICOM_anon/', 'CHAOS_Train_Sets/Train_Sets/MR/33/T2SPIR/Ground/', 'CHAOS_Train_Sets/Train_Sets/MR/34/', 'CHAOS_Train_Sets/Train_Sets/MR/34/T1DUAL/', 'CHAOS_Train_Sets/Train_Sets/MR/34/T1DUAL/DICOM_anon/', 'CHAOS_Train_Sets/Train_Sets/MR/34/T1DUAL/DICOM_anon/InPhase/', 'CHAOS_Train_Sets/Train_Sets/MR/34/T1DUAL/DICOM_anon/OutPhase/', 'CHAOS_Train_Sets/Train_Sets/MR/34/T1DUAL/Ground/', 'CHAOS_Train_Sets/Train_Sets/MR/34/T2SPIR/', 'CHAOS_Train_Sets/Train_Sets/MR/34/T2SPIR/DICOM_anon/', 'CHAOS_Train_Sets/Train_Sets/MR/34/T2SPIR/Ground/', 'CHAOS_Train_Sets/Train_Sets/MR/36/', 'CHAOS_Train_Sets/Train_Sets/MR/36/T1DUAL/', 'CHAOS_Train_Sets/Train_Sets/MR/36/T1DUAL/DICOM_anon/', 'CHAOS_Train_Sets/Train_Sets/MR/36/T1DUAL/DICOM_anon/InPhase/', 'CHAOS_Train_Sets/Train_Sets/MR/36/T1DUAL/DICOM_anon/OutPhase/', 'CHAOS_Train_Sets/Train_Sets/MR/36/T1DUAL/Ground/', 'CHAOS_Train_Sets/Train_Sets/MR/36/T2SPIR/', 'CHAOS_Train_Sets/Train_Sets/MR/36/T2SPIR/DICOM_anon/', 'CHAOS_Train_Sets/Train_Sets/MR/36/T2SPIR/Ground/', 'CHAOS_Train_Sets/Train_Sets/MR/37/', 'CHAOS_Train_Sets/Train_Sets/MR/37/T1DUAL/', 'CHAOS_Train_Sets/Train_Sets/MR/37/T1DUAL/DICOM_anon/', 'CHAOS_Train_Sets/Train_Sets/MR/37/T1DUAL/DICOM_anon/InPhase/', 'CHAOS_Train_Sets/Train_Sets/MR/37/T1DUAL/DICOM_anon/OutPhase/', 'CHAOS_Train_Sets/Train_Sets/MR/37/T1DUAL/Ground/', 'CHAOS_Train_Sets/Train_Sets/MR/37/T2SPIR/', 'CHAOS_Train_Sets/Train_Sets/MR/37/T2SPIR/DICOM_anon/', 'CHAOS_Train_Sets/Train_Sets/MR/37/T2SPIR/Ground/', 'CHAOS_Train_Sets/Train_Sets/MR/38/', 'CHAOS_Train_Sets/Train_Sets/MR/38/T1DUAL/', 'CHAOS_Train_Sets/Train_Sets/MR/38/T1DUAL/DICOM_anon/', 'CHAOS_Train_Sets/Train_Sets/MR/38/T1DUAL/DICOM_anon/InPhase/', 'CHAOS_Train_Sets/Train_Sets/MR/38/T1DUAL/DICOM_anon/OutPhase/', 'CHAOS_Train_Sets/Train_Sets/MR/38/T1DUAL/Ground/', 'CHAOS_Train_Sets/Train_Sets/MR/38/T2SPIR/', 'CHAOS_Train_Sets/Train_Sets/MR/38/T2SPIR/DICOM_anon/', 'CHAOS_Train_Sets/Train_Sets/MR/38/T2SPIR/Ground/', 'CHAOS_Train_Sets/Train_Sets/MR/39/', 'CHAOS_Train_Sets/Train_Sets/MR/39/T1DUAL/', 'CHAOS_Train_Sets/Train_Sets/MR/39/T1DUAL/DICOM_anon/', 'CHAOS_Train_Sets/Train_Sets/MR/39/T1DUAL/DICOM_anon/InPhase/', 'CHAOS_Train_Sets/Train_Sets/MR/39/T1DUAL/DICOM_anon/OutPhase/', 'CHAOS_Train_Sets/Train_Sets/MR/39/T1DUAL/Ground/', 'CHAOS_Train_Sets/Train_Sets/MR/39/T2SPIR/', 'CHAOS_Train_Sets/Train_Sets/MR/39/T2SPIR/DICOM_anon/', 'CHAOS_Train_Sets/Train_Sets/MR/39/T2SPIR/Ground/', 'CHAOS_Train_Sets/Train_Sets/MR/5/', 'CHAOS_Train_Sets/Train_Sets/MR/5/T1DUAL/', 'CHAOS_Train_Sets/Train_Sets/MR/5/T1DUAL/DICOM_anon/', 'CHAOS_Train_Sets/Train_Sets/MR/5/T1DUAL/DICOM_anon/InPhase/', 'CHAOS_Train_Sets/Train_Sets/MR/5/T1DUAL/DICOM_anon/OutPhase/', 'CHAOS_Train_Sets/Train_Sets/MR/5/T1DUAL/Ground/', 'CHAOS_Train_Sets/Train_Sets/MR/5/T2SPIR/', 'CHAOS_Train_Sets/Train_Sets/MR/5/T2SPIR/DICOM_anon/', 'CHAOS_Train_Sets/Train_Sets/MR/5/T2SPIR/Ground/', 'CHAOS_Train_Sets/Train_Sets/MR/8/', 'CHAOS_Train_Sets/Train_Sets/MR/8/T1DUAL/', 'CHAOS_Train_Sets/Train_Sets/MR/8/T1DUAL/DICOM_anon/', 'CHAOS_Train_Sets/Train_Sets/MR/8/T1DUAL/DICOM_anon/InPhase/', 'CHAOS_Train_Sets/Train_Sets/MR/8/T1DUAL/DICOM_anon/OutPhase/', 'CHAOS_Train_Sets/Train_Sets/MR/8/T1DUAL/Ground/', 'CHAOS_Train_Sets/Train_Sets/MR/8/T2SPIR/', 'CHAOS_Train_Sets/Train_Sets/MR/8/T2SPIR/DICOM_anon/', 'CHAOS_Train_Sets/Train_Sets/MR/8/T2SPIR/Ground/']\n"
     ]
    }
   ],
   "source": [
    "# STEP EXECUTED IN THE PREPROCESSING\n",
    "# preparing to transfer files to the new directory\n",
    "chaos_directory_tree = build_directory_tree(\"./CHAOS_Train_Sets\")\n",
    "chaos_directory_tree[\"CHAOS_Train_Sets\"][\"Train_Sets\"].pop(\"CT\")\n",
    "print(get_paths(chaos_directory_tree))"
   ]
  },
  {
   "cell_type": "markdown",
   "metadata": {},
   "source": [
    "### Moving files to the new directory"
   ]
  },
  {
   "cell_type": "code",
   "execution_count": 24,
   "metadata": {},
   "outputs": [],
   "source": [
    "# STEP EXECUTED IN THE PREPROCESSING\n",
    "prep_t1dual_path = \"./Preprocessed_Set/T1DUAL\"\n",
    "prep_t2spir_path = \"./Preprocessed_Set/T2SPIR\"\n",
    "chaos_paths = get_paths(chaos_directory_tree)\n",
    "\n",
    "for index, path in enumerate(chaos_paths):\n",
    "    # different directory structure for T1DUAL and T2SPIR, cannot use the same code\n",
    "    if ( os.path.basename(path[:-1]) == \"T1DUAL\"):\n",
    "        inphase_path = chaos_paths[index+2]\n",
    "        outphase_path = chaos_paths[index+3]\n",
    "        ground_path = chaos_paths[index+4]\n",
    "\n",
    "        # copying the images\n",
    "        for phase_path in [inphase_path, outphase_path]:\n",
    "            _,_,filenames = os.walk(phase_path).__next__()\n",
    "            for filename in filenames:\n",
    "                src_path = os.path.join(phase_path, filename)\n",
    "                dst_path = os.path.join(prep_t1dual_path, os.path.basename(phase_path[:-1]), \"Images\",filename)\n",
    "                shutil.copy(src_path, dst_path)\n",
    "\n",
    "        # copying the ground truths\n",
    "        _,_, filenames = os.walk(ground_path).__next__()\n",
    "        for filename in filenames:\n",
    "            src_path = os.path.join(ground_path, filename)\n",
    "            dst_path1 = os.path.join(prep_t1dual_path, \"InPhase/Masks\",filename)\n",
    "            dst_path2 = os.path.join(prep_t1dual_path, \"OutPhase/Masks\",filename)\n",
    "\n",
    "            shutil.copy(src_path, dst_path1)\n",
    "            shutil.copy(src_path, dst_path2)\n",
    "\n",
    "    \n",
    "    \n",
    "    elif ( os.path.basename(path[:-1]) == \"T2SPIR\"):\n",
    "        images_path = chaos_paths[index+1]\n",
    "        ground_path = chaos_paths[index+2]\n",
    "        # copying the images\n",
    "        _,_,filenames = os.walk(images_path).__next__()\n",
    "        for filename in filenames:\n",
    "            src_path = os.path.join(images_path, filename)\n",
    "            dst_path = os.path.join(prep_t2spir_path, \"Images\",filename)\n",
    "            shutil.copy(src_path, dst_path)\n",
    "\n",
    "        # copying the ground truths\n",
    "        _,_,filenames = os.walk(ground_path).__next__()\n",
    "        for filename in filenames:\n",
    "            src_path = os.path.join(ground_path, filename)\n",
    "            dst_path = os.path.join(prep_t2spir_path, \"Masks\",filename)\n",
    "            shutil.copy(src_path, dst_path)\n",
    "\n"
   ]
  },
  {
   "cell_type": "markdown",
   "metadata": {},
   "source": [
    "### From DICOM to PNG"
   ]
  },
  {
   "cell_type": "code",
   "execution_count": 25,
   "metadata": {},
   "outputs": [],
   "source": [
    "# STEP EXECUTED IN THE PREPROCESSING\n",
    "images_paths = find_path(dir_structure, \"Images\")\n",
    "for images_path in images_paths:\n",
    "    _,_,image_names = os.walk(images_path).__next__()\n",
    "    for image_name in image_names:\n",
    "        image_path = os.path.join(images_path, image_name)\n",
    "        image = np.array(pydicom.dcmread(image_path).pixel_array)\n",
    "        Image.fromarray(image).save(image_path.replace(\".dcm\", \".png\"))\n"
   ]
  },
  {
   "cell_type": "code",
   "execution_count": 26,
   "metadata": {},
   "outputs": [],
   "source": [
    "# STEP EXECUTED IN THE PREPROCESSING\n",
    "# removing DICOM images\n",
    "images_paths = find_path(dir_structure, \"Images\")\n",
    "for images_path in images_paths:\n",
    "    _,_,filenames = os.walk(images_path).__next__()\n",
    "    for filename in filenames:\n",
    "        image_path = os.path.join(images_path,filename)\n",
    "        if filename.endswith(\".dcm\"):\n",
    "            os.remove(image_path)\n",
    "\n"
   ]
  },
  {
   "cell_type": "markdown",
   "metadata": {},
   "source": [
    "### Image intensity normalization\n",
    "Images have very different pixel ranges, so normalizing them to range [0-255] is required"
   ]
  },
  {
   "cell_type": "markdown",
   "metadata": {},
   "source": [
    "The following code shows the difference between max intensities across the dataset"
   ]
  },
  {
   "cell_type": "code",
   "execution_count": 4,
   "metadata": {},
   "outputs": [
    {
     "name": "stdout",
     "output_type": "stream",
     "text": [
      "289 1344\n"
     ]
    }
   ],
   "source": [
    "values = []\n",
    "images_paths = find_path(dir_structure, \"Images\")\n",
    "images_path = images_paths[1]\n",
    "_,_,filenames = os.walk(images_path).__next__()\n",
    "for filename in filenames:\n",
    "    image_path = os.path.join(images_path,filename)\n",
    "    image = np.array(Image.open(image_path))\n",
    "    cur_max = 0\n",
    "    for y in range(image.shape[0]):\n",
    "        for x in range(image.shape[1]):\n",
    "            if image[y][x] > cur_max: cur_max = image[y][x]\n",
    "    \n",
    "    values.append(cur_max)\n",
    "\n",
    "print(min(values), max(values))"
   ]
  },
  {
   "cell_type": "code",
   "execution_count": 27,
   "metadata": {},
   "outputs": [],
   "source": [
    "# STEP EXECUTED IN THE PREPROCESSING\n",
    "# image normalization\n",
    "\n",
    "images_paths = find_path(dir_structure, \"Images\")\n",
    "for images_path in images_paths:\n",
    "    _,_,filenames = os.walk(images_path).__next__()\n",
    "    for filename in filenames:\n",
    "        image_path = os.path.join(images_path,filename)\n",
    "        image = np.array(Image.open(image_path))\n",
    "\n",
    "        max_val, min_val = max(image.flatten()), min(image.flatten())\n",
    "\n",
    "        for y in range(image.shape[0]):\n",
    "            for x in range(image.shape[1]):\n",
    "                image[y][x] = (float(image[y][x] - min_val))/(max_val-min_val) * 255\n",
    "        \n",
    "        Image.fromarray(image).save(image_path)\n",
    "        \n"
   ]
  },
  {
   "cell_type": "markdown",
   "metadata": {},
   "source": [
    "### Correcting OutPhase file names\n",
    "Thei have different names from their respective mask: $LastDigitOutphase = LastDigitMask - 1$.  "
   ]
  },
  {
   "cell_type": "code",
   "execution_count": 28,
   "metadata": {},
   "outputs": [],
   "source": [
    "# STEP EXECUTED IN THE PREPROCESSING\n",
    "outphase_path = find_path(dir_structure, \"OutPhase\")[0]\n",
    "images_path = os.path.join(outphase_path, \"Images\")\n",
    "masks_path = os.path.join(outphase_path, \"Masks\")\n",
    "\n",
    "_,_, image_names = os.walk(images_path).__next__()\n",
    "_,_, mask_names = os.walk(masks_path).__next__()\n",
    "\n",
    "for i in range(len(image_names)):\n",
    "    old_image_path = os.path.join(images_path, image_names[i])\n",
    "    new_image_path = os.path.join(images_path, mask_names[i])\n",
    "    mask_path = os.path.join(masks_path, mask_names[i])\n",
    "    \n",
    "    shutil.move(old_image_path, new_image_path)"
   ]
  },
  {
   "cell_type": "markdown",
   "metadata": {},
   "source": [
    "### Preparing the mask for sparse (and normal) categorical cross entropy\n",
    "Value range is set to 0-4, otherwise sparse crossentropy and one hot encoding cannot work properly"
   ]
  },
  {
   "cell_type": "code",
   "execution_count": 29,
   "metadata": {},
   "outputs": [],
   "source": [
    "# STEP EXECUTED IN THE PREPROCESSING\n",
    "mapping = dict([(0,0),(63,1),(126,2),(189,3),(252,4)])\n",
    "uniques = set()\n",
    "mask_paths = glob(\"./Preprocessed_Set/*/*/Masks/*png\") + glob(\"./Preprocessed_Set/*/Masks/*png\")\n",
    "for mask_path in mask_paths:\n",
    "    mask = np.array(Image.open(mask_path))\n",
    "    for i in range(mask.shape[0]):\n",
    "        for j in range(mask.shape[1]):\n",
    "            mask[i][j] = mapping[mask[i][j]]\n",
    "    Image.fromarray(mask).save(mask_path)\n"
   ]
  },
  {
   "cell_type": "markdown",
   "metadata": {},
   "source": [
    "### Adding mask class \"body\n",
    "Background and body are pretty different, I prefer to separate them in different classes"
   ]
  },
  {
   "cell_type": "code",
   "execution_count": 30,
   "metadata": {},
   "outputs": [],
   "source": [
    "# STEP EXECUTED IN THE PREPROCESSING\n",
    "image_paths = sorted(glob(\"./Preprocessed_Set/*/*/Images/*png\") + glob(\"./Preprocessed_Set/*/Images/*png\"))\n",
    "mask_paths = sorted(glob(\"./Preprocessed_Set/*/*/Masks/*png\") + glob(\"./Preprocessed_Set/*/Masks/*png\"))\n",
    "\n",
    "treshold = 10\n",
    "for i, (image_path, mask_path) in enumerate(zip(image_paths, mask_paths)):\n",
    "    if (os.path.basename(image_path) != os.path.basename(mask_path)):\n",
    "        print(\"warning: unpaired image-path found:\", image_path, mask_path)\n",
    "        continue\n",
    "\n",
    "    image = Image.open(image_path)\n",
    "    img = np.array(Image.open(image_path))\n",
    "    msk = np.array(Image.open(mask_path))\n",
    "\n",
    "\n",
    "    new_msk = np.zeros(msk.shape, dtype=np.uint8)\n",
    "    for i in range(img.shape[0]):\n",
    "        for j in range(img.shape[1]):\n",
    "            if (msk[i][j] == 0 and img[i][j] < treshold): new_msk[i][j] = 0\n",
    "            else: new_msk[i][j] = msk[i][j] + 1\n",
    "\n",
    "    Image.fromarray(new_msk).save(mask_path)\n",
    "            "
   ]
  },
  {
   "cell_type": "code",
   "execution_count": 31,
   "metadata": {},
   "outputs": [],
   "source": [
    "# STEP EXECUTED IN THE PREPROCESSING\n",
    "# morphological closure for having better mask\n",
    "\n",
    "#msks = sorted(glob(\"./Preprocessed_Set/T1DUAL/*/Masks/*.png\")) + sorted(glob(\"./Preprocessed_Set/T2SPIR/Masks/*.png\"))\n",
    "msks = sorted(glob(\"./Preprocessed_Set/T1DUAL/OutPhase/Masks/*.png\"))\n",
    "\n",
    "counter = 0\n",
    "for msk_path in msks:\n",
    "    msk = np.array(Image.open(msk_path))\n",
    "    body_msk = np.zeros(msk.shape, dtype=msk.dtype)\n",
    "    for i in range(msk.shape[0]):\n",
    "        for j in range(msk.shape[1]):\n",
    "            body_msk[i][j] = 0 if msk[i][j] == 0 else 1\n",
    "\n",
    "    new_body_msk = cv2.morphologyEx(body_msk, cv2.MORPH_CLOSE, cv2.getStructuringElement(cv2.MORPH_ELLIPSE, (6,6)))\n",
    "    new_msk = np.zeros(msk.shape, dtype=msk.dtype)\n",
    "\n",
    "    for i in range(msk.shape[0]):\n",
    "        for j in range(msk.shape[1]):\n",
    "            new_msk[i][j] = msk[i][j] if msk[i][j] > 1 else new_body_msk[i][j]\n",
    "\n",
    "    Image.fromarray(new_msk).save(msk_path)\n"
   ]
  },
  {
   "cell_type": "markdown",
   "metadata": {},
   "source": [
    "### Adding organ border masks\n",
    "Borders will have heavier weights"
   ]
  },
  {
   "cell_type": "code",
   "execution_count": 32,
   "metadata": {},
   "outputs": [],
   "source": [
    "# STEP EXECUTED IN THE PREPROCESSING\n",
    "# used to detect borders in preprocessing and now for mapping borders to the 6 original classes\n",
    "border_type = {\n",
    "    0: [0,0, 6, 7, 8, 9],   # background border with (by index) 0) background, 1) body, 2) liver, 3) right kidney, 4) left kidney, 5) spleen\n",
    "    1: [0,0,10,11,12,13],   # body border with ... (same)\n",
    "    2: [14,15,0,16,17,18],  # liver border with ... (same)\n",
    "    3: [19,20,21,0,22,23],  # right kidney border with ... (same)\n",
    "    4: [24,25,26,27,0,28],  # left kidney border with ... (same)\n",
    "    5: [29,30,31,32,33,0]   # spleen border with ... (same)\n",
    "}\n",
    "\n",
    "bd = BorderDetector(border_type)"
   ]
  },
  {
   "cell_type": "code",
   "execution_count": 33,
   "metadata": {},
   "outputs": [],
   "source": [
    "# STEP EXECUTED IN THE PREPROCESSING\n",
    "mask_paths = glob(\"./Preprocessed_Set/T1DUAL/*/Masks/*.png\") + glob(\"./Preprocessed_Set/T2SPIR/Masks/*.png\")\n",
    "for mask_path in mask_paths:\n",
    "    msk = np.array(Image.open(mask_path))\n",
    "    border_msk = bd.detect_and_amplify(msk, num_iter=2, only_if_0=True)\n",
    "    for row in range(msk.shape[0]):\n",
    "        for col in range(msk.shape[1]):\n",
    "            if border_msk[row][col] > 0:\n",
    "                msk[row][col] = border_msk[row][col]\n",
    "    Image.fromarray(msk).save(mask_path)"
   ]
  },
  {
   "cell_type": "code",
   "execution_count": 4,
   "metadata": {},
   "outputs": [
    {
     "data": {
      "text/plain": [
       "<matplotlib.image.AxesImage at 0x7f746a3b7ca0>"
      ]
     },
     "execution_count": 4,
     "metadata": {},
     "output_type": "execute_result"
    },
    {
     "data": {
      "image/png": "[encoded data removed]",
      "text/plain": [
       "<Figure size 640x480 with 2 Axes>"
      ]
     },
     "metadata": {},
     "output_type": "display_data"
    }
   ],
   "source": [
    "# showing the results\n",
    "from random import Random\n",
    "files = glob(\"./Preprocessed_Set/T1DUAL/OutPhase/Masks/*.png\")\n",
    "rnd = Random()\n",
    "#rnd.seed(2)\n",
    "file = files[rnd.randint(1,len(files))]\n",
    "file2 = file.replace(\"Set\", \"Set_no_borders\")\n",
    "\n",
    "old_msk = np.array(Image.open(file2))\n",
    "plt.subplot(1,2,1)\n",
    "plt.imshow(old_msk, cmap=\"gray\")\n",
    "msk = np.array(Image.open(file))\n",
    "plt.subplot(1,2,2)\n",
    "plt.imshow(msk, cmap=\"gray\")"
   ]
  },
  {
   "cell_type": "markdown",
   "metadata": {},
   "source": [
    "## Other stuffs used in the past"
   ]
  },
  {
   "cell_type": "markdown",
   "metadata": {},
   "source": [
    "<u>Ridimensionamento immagini e maschere</u>\n",
    "  \n",
    "Siccome alcune immagini e maschere hanno dimensione diversa da 256x256, le uniformo a tale misura.  \n",
    "Se ridimensiono le immagini (da $288^2$ a $256^2$) in modo non attento, modifico i pixel delle maschere e rischio di portarli dal range di un organo a quello di un altro. Devo evitare questa cosa.  \n",
    "Possibili soluzioni:\n",
    "* divido il range 0-255 in classi continue\n",
    "    * problema: se interpolo tra right kidney e background, tra i 2 \"genero\" dei pixel del range del liver ma non ha senso\n",
    "* il ridimensionamento dell'immagine avviene con ordine di interpolazione qualsiasi MA quello della maschera con ordine di interpolazione = 0 -> mantengo i valori già esistenti\n",
    "  \n",
    "Ho scelto per questo motivo di ridimensionare sia immagine sia maschera con ordine = 0 (costante)  "
   ]
  },
  {
   "cell_type": "code",
   "execution_count": null,
   "metadata": {},
   "outputs": [],
   "source": [
    "images_paths = find_path(dir_structure, \"Images\")\n",
    "\n",
    "for images_path in images_paths:\n",
    "    masks_path = os.path.join(os.path.split(images_path)[0], \"Masks\")\n",
    "    \n",
    "    _,_,image_names = os.walk(images_path).__next__()\n",
    "    _,_,mask_names = os.walk(masks_path).__next__()\n",
    "\n",
    "    for index, image_name in enumerate(image_names):\n",
    "        image_path = os.path.join(images_path, image_name)\n",
    "        mask_path = os.path.join(masks_path, mask_names[index])\n",
    "\n",
    "        image = pydicom.dcmread(image_path)\n",
    "        mask = Image.open(mask_path)\n",
    "\n",
    "        # reshape di immagine e maschera\n",
    "        if ( image.pixel_array.shape != (256,256)):\n",
    "            os.remove(image_path)\n",
    "            os.remove(mask_path)\n",
    "            image = np.array(image.pixel_array)\n",
    "            mask = np.array(mask)\n",
    "            target_shape = (\n",
    "                256/image.shape[0],\n",
    "                256/image.shape[1]\n",
    "            )\n",
    "            reshaped_image = scipy.ndimage.zoom(image, target_shape, order=0, mode=\"nearest\")    \n",
    "            reshaped_mask = scipy.ndimage.zoom(mask, target_shape, order=0, mode=\"nearest\")    \n",
    "        else:\n",
    "            reshaped_image = np.array(image.pixel_array)\n",
    "            reshaped_mask = np.array(mask)\n",
    "        Image.fromarray(reshaped_image).save(image_path.replace(\".dcm\", \".png\"))\n",
    "        Image.fromarray(reshaped_mask).save(mask_path)\n",
    "\n",
    "\n",
    "# IN CHE FILE SALVO L'IMMAGINE? non dcm PERCHè HA UN HEADER => PNG (semplicemente ho salvato l'array in un file)"
   ]
  },
  {
   "cell_type": "code",
   "execution_count": null,
   "metadata": {},
   "outputs": [],
   "source": [
    "# qui se voglio fare reshape solo delle maschere\n",
    "\n",
    "masks_paths = find_path(dir_structure, \"Masks\")\n",
    "for masks_path in masks_paths:\n",
    "\n",
    "    _,_,mask_names = os.walk(masks_path).__next__()\n",
    "    for index, mask_name in enumerate(mask_names):\n",
    "        mask_path = os.path.join(masks_path, mask_names[index])\n",
    "\n",
    "        mask = np.array(Image.open(mask_path))\n",
    "\n",
    "        # reshape di immagine e maschera\n",
    "        if ( mask.shape != (256,256)):\n",
    "            os.remove(mask_path)\n",
    "            target_shape = (\n",
    "                256/mask.shape[0],\n",
    "                256/mask.shape[1]\n",
    "            )\n",
    "            reshaped_mask = scipy.ndimage.zoom(mask, target_shape, order=3, mode=\"nearest\")    \n",
    "\n",
    "            Image.fromarray(reshaped_mask).save(mask_path)"
   ]
  }
 ],
 "metadata": {
  "kernelspec": {
   "display_name": "Python 3",
   "language": "python",
   "name": "python3"
  },
  "language_info": {
   "codemirror_mode": {
    "name": "ipython",
    "version": 3
   },
   "file_extension": ".py",
   "mimetype": "text/x-python",
   "name": "python",
   "nbconvert_exporter": "python",
   "pygments_lexer": "ipython3",
   "version": "3.8.10"
  }
 },
 "nbformat": 4,
 "nbformat_minor": 2
}
